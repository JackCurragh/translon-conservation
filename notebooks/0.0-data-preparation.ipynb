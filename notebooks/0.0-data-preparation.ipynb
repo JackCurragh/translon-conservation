{
 "cells": [
  {
   "cell_type": "markdown",
   "metadata": {},
   "source": [
    "## PhyloCSF  Score URLs\n",
    "\n",
    "The raw score bigWig files are available at:"
   ]
  },
  {
   "cell_type": "code",
   "execution_count": 4,
   "metadata": {},
   "outputs": [],
   "source": [
    "base_url = \"http://data.broadinstitute.org/compbio1/PhyloCSFtracks/hg38/latest\"\n",
    "\n",
    "raw_tracks = {\n",
    "    \"plus1\": f\"{base_url}/PhyloCSFRaw+1.bw\",\n",
    "    \"plus2\": f\"{base_url}/PhyloCSFRaw+2.bw\", \n",
    "    \"plus3\": f\"{base_url}/PhyloCSFRaw+3.bw\",\n",
    "    \"minus1\": f\"{base_url}/PhyloCSFRaw-1.bw\",\n",
    "    \"minus2\": f\"{base_url}/PhyloCSFRaw-2.bw\",\n",
    "    \"minus3\": f\"{base_url}/PhyloCSFRaw-3.bw\",\n",
    "    \"power\": f\"{base_url}/PhyloCSFpower.bw\"\n",
    "}\n",
    "\n",
    "# Example download code\n",
    "import requests\n",
    "from pathlib import Path\n"
   ]
  },
  {
   "cell_type": "code",
   "execution_count": 2,
   "metadata": {},
   "outputs": [
    {
     "name": "stdout",
     "output_type": "stream",
     "text": [
      "Downloading plus1...\n",
      "Downloaded plus1\n",
      "Downloading plus2...\n",
      "Downloaded plus2\n",
      "Downloading plus3...\n",
      "Downloaded plus3\n",
      "Downloading minus1...\n",
      "Downloaded minus1\n",
      "Downloading minus2...\n",
      "Downloaded minus2\n",
      "Downloading minus3...\n",
      "Downloaded minus3\n",
      "Downloading power...\n",
      "Downloaded power\n"
     ]
    }
   ],
   "source": [
    "\n",
    "phylo_dir = Path(\"../data/raw/phylocsf\")\n",
    "phylo_dir.mkdir(exist_ok=True, parents=True)\n",
    "\n",
    "for name, url in raw_tracks.items():\n",
    "    out_path = phylo_dir / f\"PhyloCSFRaw_{name}.bw\"\n",
    "    if not out_path.exists():\n",
    "        print(f\"Downloading {name}...\")\n",
    "        response = requests.get(url, stream=True)\n",
    "        if response.status_code == 200:\n",
    "            with open(out_path, 'wb') as f:\n",
    "                for chunk in response.iter_content(chunk_size=8192):\n",
    "                    f.write(chunk)\n",
    "            print(f\"Downloaded {name}\")\n",
    "        else:\n",
    "            print(f\"Failed to download {name}\")"
   ]
  },
  {
   "cell_type": "markdown",
   "metadata": {},
   "source": [
    "# PhyloCSF Smoothed"
   ]
  },
  {
   "cell_type": "code",
   "execution_count": 2,
   "metadata": {},
   "outputs": [],
   "source": [
    "base_url = \"http://data.broadinstitute.org/compbio1/PhyloCSFtracks/hg38/latest\"\n",
    "\n",
    "smoothed_tracks = {\n",
    "    \"plus1\": f\"{base_url}/PhyloCSF+1.bw\",\n",
    "    \"plus2\": f\"{base_url}/PhyloCSF+2.bw\", \n",
    "    \"plus3\": f\"{base_url}/PhyloCSF+3.bw\",\n",
    "    \"minus1\": f\"{base_url}/PhyloCSF-1.bw\",\n",
    "    \"minus2\": f\"{base_url}/PhyloCSF-2.bw\",\n",
    "    \"minus3\": f\"{base_url}/PhyloCSF-3.bw\",\n",
    "    \"power\": f\"{base_url}/PhyloCSFpower.bw\"\n",
    "}\n",
    "\n",
    "# Example download code\n",
    "import requests\n",
    "from pathlib import Path\n"
   ]
  },
  {
   "cell_type": "code",
   "execution_count": 3,
   "metadata": {},
   "outputs": [
    {
     "name": "stdout",
     "output_type": "stream",
     "text": [
      "Downloading minus2...\n",
      "Downloaded minus2\n",
      "Downloading minus3...\n",
      "Downloaded minus3\n",
      "Downloading power...\n",
      "Downloaded power\n"
     ]
    }
   ],
   "source": [
    "\n",
    "phylo_dir = Path(\"../data/raw/phylocsf\")\n",
    "phylo_dir.mkdir(exist_ok=True, parents=True)\n",
    "\n",
    "for name, url in smoothed_tracks.items():\n",
    "    out_path = phylo_dir / f\"PhyloCSFsmooth_{name}.bw\"\n",
    "    if not out_path.exists():\n",
    "        print(f\"Downloading {name}...\")\n",
    "        response = requests.get(url, stream=True)\n",
    "        if response.status_code == 200:\n",
    "            with open(out_path, 'wb') as f:\n",
    "                for chunk in response.iter_content(chunk_size=8192):\n",
    "                    f.write(chunk)\n",
    "            print(f\"Downloaded {name}\")\n",
    "        else:\n",
    "            print(f\"Failed to download {name}\")"
   ]
  },
  {
   "cell_type": "markdown",
   "metadata": {},
   "source": [
    "# PhyloP Track Hg38\n"
   ]
  },
  {
   "cell_type": "code",
   "execution_count": 6,
   "metadata": {},
   "outputs": [],
   "source": [
    "phyloP_url = {\"phyloP\": \"https://hgdownload.cse.ucsc.edu/goldenpath/hg38/phyloP470way/hg38.phyloP470way.bw\"}"
   ]
  },
  {
   "cell_type": "code",
   "execution_count": 7,
   "metadata": {},
   "outputs": [
    {
     "name": "stdout",
     "output_type": "stream",
     "text": [
      "Downloading phyloP...\n",
      "Downloaded phyloP\n"
     ]
    }
   ],
   "source": [
    "phylo_dir = Path(\"../data/raw/phyloP\")\n",
    "phylo_dir.mkdir(exist_ok=True, parents=True)\n",
    "\n",
    "for name, url in phyloP_url.items():\n",
    "    out_path = phylo_dir / f\"PhyloP_470way.bw\"\n",
    "    if not out_path.exists():\n",
    "        print(f\"Downloading {name}...\")\n",
    "        response = requests.get(url, stream=True)\n",
    "        if response.status_code == 200:\n",
    "            with open(out_path, 'wb') as f:\n",
    "                for chunk in response.iter_content(chunk_size=8192):\n",
    "                    f.write(chunk)\n",
    "            print(f\"Downloaded {name}\")\n",
    "        else:\n",
    "            print(f\"Failed to download {name}\")"
   ]
  }
 ],
 "metadata": {
  "kernelspec": {
   "display_name": "translon-conservation",
   "language": "python",
   "name": "python3"
  },
  "language_info": {
   "codemirror_mode": {
    "name": "ipython",
    "version": 3
   },
   "file_extension": ".py",
   "mimetype": "text/x-python",
   "name": "python",
   "nbconvert_exporter": "python",
   "pygments_lexer": "ipython3",
   "version": "3.12.7"
  }
 },
 "nbformat": 4,
 "nbformat_minor": 2
}
